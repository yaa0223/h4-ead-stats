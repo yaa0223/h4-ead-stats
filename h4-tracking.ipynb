{
 "cells": [
  {
   "cell_type": "markdown",
   "metadata": {},
   "source": [
    "# H4 Vias And H4 EAD Processing Time Stats\n",
    "\n",
    "I applied for H4 visa and H4 EAD this Apr. While waiting, I decided to find the stats for H4 visa/EAD processing time."
   ]
  },
  {
   "cell_type": "code",
   "execution_count": 3,
   "metadata": {
    "collapsed": true
   },
   "outputs": [],
   "source": [
    "## Scrape data from http://www.trackitt.com\n",
    "from bs4 import BeautifulSoup\n",
    "import requests\n",
    "import json\n",
    "\n",
    "s = requests.Session()\n",
    "\n",
    "def get_page(page_number):\n",
    "    r = s.get(\"http://www.trackitt.com/usa-immigration-trackers/h4-ead/page/\" + str(page_number))\n",
    "    return get_data(r.text)\n",
    "\n",
    "def get_data(file_name):\n",
    "    soup = BeautifulSoup(file_name, \"html.parser\")\n",
    "    datas = []\n",
    "    for row in soup.findAll(\"tr\", {\"class\" : [\"regulartrackerrow\", \"certifiedtrackerrow\"]}):\n",
    "        data = {}\n",
    "        columns = row.findAll(\"td\")\n",
    "        data[\"name\"] = columns[1].text\n",
    "        data[\"nationality\"] = columns[3].text\n",
    "        data[\"application_type\"] = columns[4].text\n",
    "        data[\"service_center\"] = columns[5].text\n",
    "        data[\"filed_date\"] = columns[7].text\n",
    "        data[\"received_date\"] = columns[8].text\n",
    "        data[\"notice_date\"] = columns[9].text\n",
    "        data[\"ref_received\"] = columns[11].text\n",
    "        data[\"application_status\"] = columns[15].text\n",
    "        data[\"approval_denial_date\"] = columns[16].text\n",
    "        data[\"ead_ordered_date\"] = columns[17].text\n",
    "        data[\"ead_received_date\"] = columns[18].text\n",
    "        data[\"total_processing_time\"] = columns[19].text\n",
    "        data[\"days_elapsed\"] = columns[21].text\n",
    "        data[\"note\"] = columns[22].text\n",
    "        detailed_link = columns[22].find(\"a\")\n",
    "        if detailed_link:\n",
    "            data[\"note2\"] = detailed_link['title']\n",
    "        else:\n",
    "            data[\"note2\"] = \"\"\n",
    "            \n",
    "        datas.append(data)\n",
    "    return datas\n",
    "\n",
    "all_datas = []\n",
    "for i in range(1, 59):\n",
    "    all_datas.extend(get_page(i))"
   ]
  },
  {
   "cell_type": "code",
   "execution_count": 4,
   "metadata": {
    "collapsed": false
   },
   "outputs": [],
   "source": [
    "# Convert all the date from string to datetime and calculate total processing time\n",
    "import numpy as np\n",
    "import pandas as pd\n",
    "from pandas import DataFrame\n",
    "\n",
    "df = DataFrame.from_records(all_datas)\n",
    "\n",
    "data_column_names = ['filed_date', 'notice_date', 'received_date', 'approval_denial_date', 'ead_ordered_date', 'ead_received_date']\n",
    "for column_name in data_column_names:\n",
    "    df[column_name] = pd.to_datetime(df[column_name], format='%m/%d/%Y', errors='coerce')\n",
    "\n",
    "df['total_processing_days'] = (df['approval_denial_date'] - df['filed_date']).dt.days\n",
    "\n",
    "# Find some negative value of total_processing_days. Drop them.\n",
    "df = df[df.total_processing_days > 0]\n",
    "\n",
    "# Combine note2 and note to processed_note.\n",
    "df['processed_note'] = np.where(df['note2'] != '', df['note2'], df['note'])\n",
    "df['processed_note'] = df['processed_note'].str.lower()"
   ]
  },
  {
   "cell_type": "markdown",
   "metadata": {},
   "source": [
    "## Summary\n",
    "\n",
    "Overall, median processing time is 57 days, but some application might take up to one year."
   ]
  },
  {
   "cell_type": "code",
   "execution_count": 5,
   "metadata": {
    "collapsed": false
   },
   "outputs": [
    {
     "data": {
      "text/plain": [
       "<matplotlib.axes._subplots.AxesSubplot at 0x111a4e550>"
      ]
     },
     "execution_count": 5,
     "metadata": {},
     "output_type": "execute_result"
    },
    {
     "data": {
      "image/png": "[encoded data removed]",
      "text/plain": [
       "<matplotlib.figure.Figure at 0x10fad6510>"
      ]
     },
     "metadata": {},
     "output_type": "display_data"
    }
   ],
   "source": [
    "import matplotlib\n",
    "%matplotlib inline\n",
    "\n",
    "df['total_processing_days'].plot.hist(bins=50,range=(0,400))"
   ]
  },
  {
   "cell_type": "code",
   "execution_count": 6,
   "metadata": {
    "collapsed": false
   },
   "outputs": [
    {
     "data": {
      "text/plain": [
       "count    2317.000000\n",
       "mean       63.788088\n",
       "std        37.608191\n",
       "min         3.000000\n",
       "25%        37.000000\n",
       "50%        57.000000\n",
       "75%        81.000000\n",
       "max       355.000000\n",
       "Name: total_processing_days, dtype: float64"
      ]
     },
     "execution_count": 6,
     "metadata": {},
     "output_type": "execute_result"
    }
   ],
   "source": [
    "df['total_processing_days'].describe()"
   ]
  },
  {
   "cell_type": "markdown",
   "metadata": {},
   "source": [
    "## How to get approve fast\n",
    "\n",
    "1. Premium process can lower processing time by 3~4 weeks."
   ]
  },
  {
   "cell_type": "code",
   "execution_count": 7,
   "metadata": {
    "collapsed": false
   },
   "outputs": [
    {
     "data": {
      "text/plain": [
       "count     60.000000\n",
       "mean      47.333333\n",
       "std       42.974437\n",
       "min        3.000000\n",
       "25%       11.000000\n",
       "50%       30.500000\n",
       "75%       79.500000\n",
       "max      175.000000\n",
       "Name: total_processing_days, dtype: float64"
      ]
     },
     "execution_count": 7,
     "metadata": {},
     "output_type": "execute_result"
    }
   ],
   "source": [
    "df[df['processed_note'].str.contains('premium')]['total_processing_days'].describe()"
   ]
  },
  {
   "cell_type": "code",
   "execution_count": 8,
   "metadata": {
    "collapsed": false
   },
   "outputs": [
    {
     "data": {
      "text/plain": [
       "array([u'new application', u'renewal'], dtype=object)"
      ]
     },
     "execution_count": 8,
     "metadata": {},
     "output_type": "execute_result"
    }
   ],
   "source": [
    "df['application_type'].unique()"
   ]
  },
  {
   "cell_type": "code",
   "execution_count": 9,
   "metadata": {
    "collapsed": false
   },
   "outputs": [
    {
     "data": {
      "text/plain": [
       "count    2163.000000\n",
       "mean       64.407767\n",
       "std        37.574609\n",
       "min         8.000000\n",
       "25%        38.000000\n",
       "50%        57.000000\n",
       "75%        81.000000\n",
       "max       355.000000\n",
       "Name: total_processing_days, dtype: float64"
      ]
     },
     "execution_count": 9,
     "metadata": {},
     "output_type": "execute_result"
    }
   ],
   "source": [
    "df[~df['processed_note'].str.contains('premium') & df['application_type'].str.match('new application')]['total_processing_days'].describe()"
   ]
  },
  {
   "cell_type": "code",
   "execution_count": 10,
   "metadata": {
    "collapsed": false
   },
   "outputs": [
    {
     "data": {
      "text/plain": [
       "<matplotlib.axes._subplots.AxesSubplot at 0x10fad6850>"
      ]
     },
     "execution_count": 10,
     "metadata": {},
     "output_type": "execute_result"
    },
    {
     "data": {
      "image/png": "[encoded data removed]",
      "text/plain": [
       "<matplotlib.figure.Figure at 0x10fdaa0d0>"
      ]
     },
     "metadata": {},
     "output_type": "display_data"
    }
   ],
   "source": [
    "new_app_no_premium = df[~df['processed_note'].str.contains('premium') & \n",
    "   df['application_type'].str.match('renewal')]\n",
    "new_app_no_premium = new_app_no_premium.set_index('filed_date')\n",
    "new_app_no_premium\n",
    "new_app_no_premium.groupby(pd.TimeGrouper(freq='M'))['total_processing_days'].mean().plot.bar()"
   ]
  },
  {
   "cell_type": "code",
   "execution_count": 11,
   "metadata": {
    "collapsed": false,
    "scrolled": true
   },
   "outputs": [
    {
     "data": {
      "text/html": [
       "<div>\n",
       "<table border=\"1\" class=\"dataframe\">\n",
       "  <thead>\n",
       "    <tr style=\"text-align: right;\">\n",
       "      <th></th>\n",
       "      <th>total_processing_days</th>\n",
       "      <th>processed_note</th>\n",
       "    </tr>\n",
       "  </thead>\n",
       "  <tbody>\n",
       "    <tr>\n",
       "      <th>0</th>\n",
       "      <td>291.0</td>\n",
       "      <td></td>\n",
       "    </tr>\n",
       "    <tr>\n",
       "      <th>1</th>\n",
       "      <td>71.0</td>\n",
       "      <td></td>\n",
       "    </tr>\n",
       "    <tr>\n",
       "      <th>2</th>\n",
       "      <td>96.0</td>\n",
       "      <td></td>\n",
       "    </tr>\n",
       "    <tr>\n",
       "      <th>3</th>\n",
       "      <td>105.0</td>\n",
       "      <td>approved on the same day that my h4 extension ...</td>\n",
       "    </tr>\n",
       "    <tr>\n",
       "      <th>4</th>\n",
       "      <td>99.0</td>\n",
       "      <td>case was sent to dallas - was routed to vermon...</td>\n",
       "    </tr>\n",
       "    <tr>\n",
       "      <th>6</th>\n",
       "      <td>88.0</td>\n",
       "      <td>standalone h4ead</td>\n",
       "    </tr>\n",
       "    <tr>\n",
       "      <th>10</th>\n",
       "      <td>75.0</td>\n",
       "      <td></td>\n",
       "    </tr>\n",
       "    <tr>\n",
       "      <th>11</th>\n",
       "      <td>87.0</td>\n",
       "      <td></td>\n",
       "    </tr>\n",
       "    <tr>\n",
       "      <th>12</th>\n",
       "      <td>132.0</td>\n",
       "      <td>hi all, i filed opttoh4 and h4 ead application...</td>\n",
       "    </tr>\n",
       "    <tr>\n",
       "      <th>18</th>\n",
       "      <td>93.0</td>\n",
       "      <td>received the ead card on 21st july..</td>\n",
       "    </tr>\n",
       "    <tr>\n",
       "      <th>20</th>\n",
       "      <td>90.0</td>\n",
       "      <td></td>\n",
       "    </tr>\n",
       "    <tr>\n",
       "      <th>21</th>\n",
       "      <td>62.0</td>\n",
       "      <td></td>\n",
       "    </tr>\n",
       "    <tr>\n",
       "      <th>22</th>\n",
       "      <td>105.0</td>\n",
       "      <td>f1 to h4 cos + ead;\\r\\nmade expedite request a...</td>\n",
       "    </tr>\n",
       "    <tr>\n",
       "      <th>24</th>\n",
       "      <td>75.0</td>\n",
       "      <td></td>\n",
       "    </tr>\n",
       "    <tr>\n",
       "      <th>29</th>\n",
       "      <td>132.0</td>\n",
       "      <td>h1 to h4+ead filed.\\r\\nwac16903586xx for h1 to...</td>\n",
       "    </tr>\n",
       "    <tr>\n",
       "      <th>33</th>\n",
       "      <td>66.0</td>\n",
       "      <td></td>\n",
       "    </tr>\n",
       "    <tr>\n",
       "      <th>34</th>\n",
       "      <td>204.0</td>\n",
       "      <td>h1 -&gt; h4 + ead concurrent filing</td>\n",
       "    </tr>\n",
       "    <tr>\n",
       "      <th>40</th>\n",
       "      <td>80.0</td>\n",
       "      <td></td>\n",
       "    </tr>\n",
       "    <tr>\n",
       "      <th>42</th>\n",
       "      <td>76.0</td>\n",
       "      <td></td>\n",
       "    </tr>\n",
       "    <tr>\n",
       "      <th>46</th>\n",
       "      <td>143.0</td>\n",
       "      <td>concurrent h4 cos + h4 ead</td>\n",
       "    </tr>\n",
       "    <tr>\n",
       "      <th>47</th>\n",
       "      <td>82.0</td>\n",
       "      <td>h1 to h4 cos and h4-ead concurrent filing,both...</td>\n",
       "    </tr>\n",
       "    <tr>\n",
       "      <th>50</th>\n",
       "      <td>72.0</td>\n",
       "      <td></td>\n",
       "    </tr>\n",
       "    <tr>\n",
       "      <th>51</th>\n",
       "      <td>54.0</td>\n",
       "      <td></td>\n",
       "    </tr>\n",
       "    <tr>\n",
       "      <th>52</th>\n",
       "      <td>102.0</td>\n",
       "      <td>f1-opt-h4 and ead filed concurrently. case sta...</td>\n",
       "    </tr>\n",
       "    <tr>\n",
       "      <th>55</th>\n",
       "      <td>142.0</td>\n",
       "      <td>f1 to h4 cos, h4 ead approved on 7/18/2016.\\r\\...</td>\n",
       "    </tr>\n",
       "    <tr>\n",
       "      <th>56</th>\n",
       "      <td>127.0</td>\n",
       "      <td>h4 cos + ead approved on same day july 12th 20...</td>\n",
       "    </tr>\n",
       "    <tr>\n",
       "      <th>67</th>\n",
       "      <td>82.0</td>\n",
       "      <td>raised an online sr today 07/11/2016.... ead a...</td>\n",
       "    </tr>\n",
       "    <tr>\n",
       "      <th>72</th>\n",
       "      <td>78.0</td>\n",
       "      <td>h4 ead</td>\n",
       "    </tr>\n",
       "    <tr>\n",
       "      <th>73</th>\n",
       "      <td>75.0</td>\n",
       "      <td></td>\n",
       "    </tr>\n",
       "    <tr>\n",
       "      <th>74</th>\n",
       "      <td>78.0</td>\n",
       "      <td></td>\n",
       "    </tr>\n",
       "    <tr>\n",
       "      <th>...</th>\n",
       "      <td>...</td>\n",
       "      <td>...</td>\n",
       "    </tr>\n",
       "    <tr>\n",
       "      <th>2829</th>\n",
       "      <td>22.0</td>\n",
       "      <td></td>\n",
       "    </tr>\n",
       "    <tr>\n",
       "      <th>2830</th>\n",
       "      <td>24.0</td>\n",
       "      <td>this took just 3 weeks!! good luck everyone!</td>\n",
       "    </tr>\n",
       "    <tr>\n",
       "      <th>2832</th>\n",
       "      <td>24.0</td>\n",
       "      <td></td>\n",
       "    </tr>\n",
       "    <tr>\n",
       "      <th>2833</th>\n",
       "      <td>23.0</td>\n",
       "      <td></td>\n",
       "    </tr>\n",
       "    <tr>\n",
       "      <th>2834</th>\n",
       "      <td>25.0</td>\n",
       "      <td>approved.</td>\n",
       "    </tr>\n",
       "    <tr>\n",
       "      <th>2835</th>\n",
       "      <td>28.0</td>\n",
       "      <td>on june 19, 2015, we ordered your new card for...</td>\n",
       "    </tr>\n",
       "    <tr>\n",
       "      <th>2836</th>\n",
       "      <td>22.0</td>\n",
       "      <td></td>\n",
       "    </tr>\n",
       "    <tr>\n",
       "      <th>2837</th>\n",
       "      <td>25.0</td>\n",
       "      <td></td>\n",
       "    </tr>\n",
       "    <tr>\n",
       "      <th>2838</th>\n",
       "      <td>23.0</td>\n",
       "      <td>case was approved.</td>\n",
       "    </tr>\n",
       "    <tr>\n",
       "      <th>2839</th>\n",
       "      <td>23.0</td>\n",
       "      <td></td>\n",
       "    </tr>\n",
       "    <tr>\n",
       "      <th>2840</th>\n",
       "      <td>22.0</td>\n",
       "      <td>received acceptance confirmation over email on...</td>\n",
       "    </tr>\n",
       "    <tr>\n",
       "      <th>2841</th>\n",
       "      <td>23.0</td>\n",
       "      <td>my case details: i-140 approved, 6+ year exten...</td>\n",
       "    </tr>\n",
       "    <tr>\n",
       "      <th>2842</th>\n",
       "      <td>22.0</td>\n",
       "      <td></td>\n",
       "    </tr>\n",
       "    <tr>\n",
       "      <th>2843</th>\n",
       "      <td>23.0</td>\n",
       "      <td></td>\n",
       "    </tr>\n",
       "    <tr>\n",
       "      <th>2845</th>\n",
       "      <td>22.0</td>\n",
       "      <td></td>\n",
       "    </tr>\n",
       "    <tr>\n",
       "      <th>2846</th>\n",
       "      <td>21.0</td>\n",
       "      <td></td>\n",
       "    </tr>\n",
       "    <tr>\n",
       "      <th>2848</th>\n",
       "      <td>21.0</td>\n",
       "      <td>supporting doc:\\r\\ni 140 approved\\r\\nvisa copy...</td>\n",
       "    </tr>\n",
       "    <tr>\n",
       "      <th>2849</th>\n",
       "      <td>22.0</td>\n",
       "      <td>havent received physical notice, just status w...</td>\n",
       "    </tr>\n",
       "    <tr>\n",
       "      <th>2851</th>\n",
       "      <td>23.0</td>\n",
       "      <td>card is ordered to be produced.</td>\n",
       "    </tr>\n",
       "    <tr>\n",
       "      <th>2852</th>\n",
       "      <td>22.0</td>\n",
       "      <td></td>\n",
       "    </tr>\n",
       "    <tr>\n",
       "      <th>2854</th>\n",
       "      <td>25.0</td>\n",
       "      <td>your item was delivered at 9:57 am on may 26, ...</td>\n",
       "    </tr>\n",
       "    <tr>\n",
       "      <th>2855</th>\n",
       "      <td>21.0</td>\n",
       "      <td>posting this case on behalf of my wife.\\r\\ntod...</td>\n",
       "    </tr>\n",
       "    <tr>\n",
       "      <th>2856</th>\n",
       "      <td>22.0</td>\n",
       "      <td></td>\n",
       "    </tr>\n",
       "    <tr>\n",
       "      <th>2857</th>\n",
       "      <td>22.0</td>\n",
       "      <td>direct approval on june 17\\r\\n\\r\\non june 17, ...</td>\n",
       "    </tr>\n",
       "    <tr>\n",
       "      <th>2859</th>\n",
       "      <td>22.0</td>\n",
       "      <td></td>\n",
       "    </tr>\n",
       "    <tr>\n",
       "      <th>2860</th>\n",
       "      <td>21.0</td>\n",
       "      <td></td>\n",
       "    </tr>\n",
       "    <tr>\n",
       "      <th>2861</th>\n",
       "      <td>21.0</td>\n",
       "      <td>on june 16, 2015, we approved your form i-765,...</td>\n",
       "    </tr>\n",
       "    <tr>\n",
       "      <th>2865</th>\n",
       "      <td>21.0</td>\n",
       "      <td></td>\n",
       "    </tr>\n",
       "    <tr>\n",
       "      <th>2866</th>\n",
       "      <td>26.0</td>\n",
       "      <td></td>\n",
       "    </tr>\n",
       "    <tr>\n",
       "      <th>2869</th>\n",
       "      <td>11.0</td>\n",
       "      <td>just received the card.  yeah!!!</td>\n",
       "    </tr>\n",
       "  </tbody>\n",
       "</table>\n",
       "<p>2163 rows × 2 columns</p>\n",
       "</div>"
      ],
      "text/plain": [
       "      total_processing_days                                     processed_note\n",
       "0                     291.0                                                   \n",
       "1                      71.0                                                   \n",
       "2                      96.0                                                   \n",
       "3                     105.0  approved on the same day that my h4 extension ...\n",
       "4                      99.0  case was sent to dallas - was routed to vermon...\n",
       "6                      88.0                                   standalone h4ead\n",
       "10                     75.0                                                   \n",
       "11                     87.0                                                   \n",
       "12                    132.0  hi all, i filed opttoh4 and h4 ead application...\n",
       "18                     93.0               received the ead card on 21st july..\n",
       "20                     90.0                                                   \n",
       "21                     62.0                                                   \n",
       "22                    105.0  f1 to h4 cos + ead;\\r\\nmade expedite request a...\n",
       "24                     75.0                                                   \n",
       "29                    132.0  h1 to h4+ead filed.\\r\\nwac16903586xx for h1 to...\n",
       "33                     66.0                                                   \n",
       "34                    204.0                   h1 -> h4 + ead concurrent filing\n",
       "40                     80.0                                                   \n",
       "42                     76.0                                                   \n",
       "46                    143.0                         concurrent h4 cos + h4 ead\n",
       "47                     82.0  h1 to h4 cos and h4-ead concurrent filing,both...\n",
       "50                     72.0                                                   \n",
       "51                     54.0                                                   \n",
       "52                    102.0  f1-opt-h4 and ead filed concurrently. case sta...\n",
       "55                    142.0  f1 to h4 cos, h4 ead approved on 7/18/2016.\\r\\...\n",
       "56                    127.0  h4 cos + ead approved on same day july 12th 20...\n",
       "67                     82.0  raised an online sr today 07/11/2016.... ead a...\n",
       "72                     78.0                                             h4 ead\n",
       "73                     75.0                                                   \n",
       "74                     78.0                                                   \n",
       "...                     ...                                                ...\n",
       "2829                   22.0                                                   \n",
       "2830                   24.0       this took just 3 weeks!! good luck everyone!\n",
       "2832                   24.0                                                   \n",
       "2833                   23.0                                                   \n",
       "2834                   25.0                                          approved.\n",
       "2835                   28.0  on june 19, 2015, we ordered your new card for...\n",
       "2836                   22.0                                                   \n",
       "2837                   25.0                                                   \n",
       "2838                   23.0                                 case was approved.\n",
       "2839                   23.0                                                   \n",
       "2840                   22.0  received acceptance confirmation over email on...\n",
       "2841                   23.0  my case details: i-140 approved, 6+ year exten...\n",
       "2842                   22.0                                                   \n",
       "2843                   23.0                                                   \n",
       "2845                   22.0                                                   \n",
       "2846                   21.0                                                   \n",
       "2848                   21.0  supporting doc:\\r\\ni 140 approved\\r\\nvisa copy...\n",
       "2849                   22.0  havent received physical notice, just status w...\n",
       "2851                   23.0                   card is ordered to be produced. \n",
       "2852                   22.0                                                   \n",
       "2854                   25.0  your item was delivered at 9:57 am on may 26, ...\n",
       "2855                   21.0  posting this case on behalf of my wife.\\r\\ntod...\n",
       "2856                   22.0                                                   \n",
       "2857                   22.0  direct approval on june 17\\r\\n\\r\\non june 17, ...\n",
       "2859                   22.0                                                   \n",
       "2860                   21.0                                                   \n",
       "2861                   21.0  on june 16, 2015, we approved your form i-765,...\n",
       "2865                   21.0                                                   \n",
       "2866                   26.0                                                   \n",
       "2869                   11.0                   just received the card.  yeah!!!\n",
       "\n",
       "[2163 rows x 2 columns]"
      ]
     },
     "execution_count": 11,
     "metadata": {},
     "output_type": "execute_result"
    }
   ],
   "source": [
    "df[~df['processed_note'].str.contains('premium') & \n",
    "   df['application_type'].str.match('new application')][['total_processing_days', 'processed_note']]"
   ]
  },
  {
   "cell_type": "code",
   "execution_count": 12,
   "metadata": {
    "collapsed": false
   },
   "outputs": [
    {
     "data": {
      "text/plain": [
       "count     94.000000\n",
       "mean      60.031915\n",
       "std       32.113526\n",
       "min        7.000000\n",
       "25%       38.000000\n",
       "50%       58.000000\n",
       "75%       74.750000\n",
       "max      185.000000\n",
       "Name: total_processing_days, dtype: float64"
      ]
     },
     "execution_count": 12,
     "metadata": {},
     "output_type": "execute_result"
    }
   ],
   "source": [
    "df[~df['processed_note'].str.contains('premium') & df['application_type'].str.match('renewal')]['total_processing_days'].describe()"
   ]
  },
  {
   "cell_type": "code",
   "execution_count": 13,
   "metadata": {
    "collapsed": false
   },
   "outputs": [
    {
     "data": {
      "text/plain": [
       "280     filled concurrently with h1 b, h4  and h4 ead ...\n",
       "289                                                      \n",
       "357     h1 extension + h4 extension + h4 ead renewal -...\n",
       "389     we submitted 3 applications together on may 03...\n",
       "430             h1/h4 extension and h4-ead premium filing\n",
       "462                                               premium\n",
       "487     f1 to h4 cos (under h1 premium); h4 ead filed ...\n",
       "547           applied with h1, h4 etxn premium processing\n",
       "571     ead renewal, no major changes in circumstances...\n",
       "650     filed  h1b +h4 ext  and h4 ead   together in p...\n",
       "747     concurrent filing -  h1b + h4 + h4 ead extensions\n",
       "803     h1 extension primary (premium) + h1 to h4 cos ...\n",
       "814     this is the case filed by my lawyer along with...\n",
       "982     h1 eos + h4 cos and ead applied in premium. no...\n",
       "1394                                                     \n",
       "1404    concurrent filing of h1 , h4 extension along w...\n",
       "1816                                                     \n",
       "1851                                                     \n",
       "Name: processed_note, dtype: object"
      ]
     },
     "execution_count": 13,
     "metadata": {},
     "output_type": "execute_result"
    }
   ],
   "source": [
    "# Many applications that approved within 10 days are filed with h1 concurrently.\n",
    "df[df['total_processing_days'] < 10]['processed_note']"
   ]
  },
  {
   "cell_type": "code",
   "execution_count": 14,
   "metadata": {
    "collapsed": false
   },
   "outputs": [
    {
     "data": {
      "text/plain": [
       "count     56.000000\n",
       "mean      92.857143\n",
       "std       61.447517\n",
       "min        6.000000\n",
       "25%       50.000000\n",
       "50%       86.500000\n",
       "75%      119.250000\n",
       "max      302.000000\n",
       "Name: total_processing_days, dtype: float64"
      ]
     },
     "execution_count": 14,
     "metadata": {},
     "output_type": "execute_result"
    }
   ],
   "source": [
    "df[df['processed_note'].str.contains('h1') & df['processed_note'].str.contains('concurrent')]['total_processing_days'].describe()"
   ]
  },
  {
   "cell_type": "code",
   "execution_count": 16,
   "metadata": {
    "collapsed": false
   },
   "outputs": [
    {
     "data": {
      "text/plain": [
       "count    2207.000000\n",
       "mean       64.027639\n",
       "std        37.730346\n",
       "min         3.000000\n",
       "25%        37.000000\n",
       "50%        57.000000\n",
       "75%        81.000000\n",
       "max       355.000000\n",
       "Name: total_processing_days, dtype: float64"
      ]
     },
     "execution_count": 16,
     "metadata": {},
     "output_type": "execute_result"
    }
   ],
   "source": [
    "df[df['application_type'] == 'new application']['total_processing_days'].describe()"
   ]
  },
  {
   "cell_type": "code",
   "execution_count": 17,
   "metadata": {
    "collapsed": false
   },
   "outputs": [
    {
     "data": {
      "text/html": [
       "<div>\n",
       "<table border=\"1\" class=\"dataframe\">\n",
       "  <thead>\n",
       "    <tr style=\"text-align: right;\">\n",
       "      <th></th>\n",
       "      <th>total_processing_days</th>\n",
       "    </tr>\n",
       "    <tr>\n",
       "      <th>service_center</th>\n",
       "      <th></th>\n",
       "    </tr>\n",
       "  </thead>\n",
       "  <tbody>\n",
       "    <tr>\n",
       "      <th>California</th>\n",
       "      <td>54.340000</td>\n",
       "    </tr>\n",
       "    <tr>\n",
       "      <th>Dallas</th>\n",
       "      <td>67.345865</td>\n",
       "    </tr>\n",
       "    <tr>\n",
       "      <th>Nebraska</th>\n",
       "      <td>46.000000</td>\n",
       "    </tr>\n",
       "    <tr>\n",
       "      <th>Phoenix</th>\n",
       "      <td>48.650165</td>\n",
       "    </tr>\n",
       "    <tr>\n",
       "      <th>Texas</th>\n",
       "      <td>63.965517</td>\n",
       "    </tr>\n",
       "    <tr>\n",
       "      <th>Vermont</th>\n",
       "      <td>73.867481</td>\n",
       "    </tr>\n",
       "  </tbody>\n",
       "</table>\n",
       "</div>"
      ],
      "text/plain": [
       "                total_processing_days\n",
       "service_center                       \n",
       "California                  54.340000\n",
       "Dallas                      67.345865\n",
       "Nebraska                    46.000000\n",
       "Phoenix                     48.650165\n",
       "Texas                       63.965517\n",
       "Vermont                     73.867481"
      ]
     },
     "execution_count": 17,
     "metadata": {},
     "output_type": "execute_result"
    }
   ],
   "source": [
    "df.groupby('service_center').mean()"
   ]
  },
  {
   "cell_type": "code",
   "execution_count": 18,
   "metadata": {
    "collapsed": false
   },
   "outputs": [
    {
     "data": {
      "text/html": [
       "<div>\n",
       "<table border=\"1\" class=\"dataframe\">\n",
       "  <thead>\n",
       "    <tr style=\"text-align: right;\">\n",
       "      <th></th>\n",
       "      <th>total_processing_days</th>\n",
       "    </tr>\n",
       "    <tr>\n",
       "      <th>nationality</th>\n",
       "      <th></th>\n",
       "    </tr>\n",
       "  </thead>\n",
       "  <tbody>\n",
       "    <tr>\n",
       "      <th>\\nCanada</th>\n",
       "      <td>65.428571</td>\n",
       "    </tr>\n",
       "    <tr>\n",
       "      <th>\\nChina</th>\n",
       "      <td>66.675000</td>\n",
       "    </tr>\n",
       "    <tr>\n",
       "      <th>\\nFrance</th>\n",
       "      <td>53.000000</td>\n",
       "    </tr>\n",
       "    <tr>\n",
       "      <th>\\nGuyana</th>\n",
       "      <td>92.000000</td>\n",
       "    </tr>\n",
       "    <tr>\n",
       "      <th>\\nIndia</th>\n",
       "      <td>63.297745</td>\n",
       "    </tr>\n",
       "    <tr>\n",
       "      <th>\\nPakistan</th>\n",
       "      <td>74.000000</td>\n",
       "    </tr>\n",
       "    <tr>\n",
       "      <th>\\nPhilippines</th>\n",
       "      <td>100.500000</td>\n",
       "    </tr>\n",
       "    <tr>\n",
       "      <th>\\nSingapore</th>\n",
       "      <td>83.000000</td>\n",
       "    </tr>\n",
       "    <tr>\n",
       "      <th>\\nSweden</th>\n",
       "      <td>101.000000</td>\n",
       "    </tr>\n",
       "    <tr>\n",
       "      <th>\\nTurkey</th>\n",
       "      <td>80.000000</td>\n",
       "    </tr>\n",
       "    <tr>\n",
       "      <th>\\nUAE</th>\n",
       "      <td>65.000000</td>\n",
       "    </tr>\n",
       "    <tr>\n",
       "      <th>\\nUnited Kingdom</th>\n",
       "      <td>29.000000</td>\n",
       "    </tr>\n",
       "    <tr>\n",
       "      <th>\\nUnited States</th>\n",
       "      <td>72.493976</td>\n",
       "    </tr>\n",
       "    <tr>\n",
       "      <th>\\nUnknown</th>\n",
       "      <td>65.000000</td>\n",
       "    </tr>\n",
       "  </tbody>\n",
       "</table>\n",
       "</div>"
      ],
      "text/plain": [
       "                  total_processing_days\n",
       "nationality                            \n",
       "\\nCanada                      65.428571\n",
       "\\nChina                       66.675000\n",
       "\\nFrance                      53.000000\n",
       "\\nGuyana                      92.000000\n",
       "\\nIndia                       63.297745\n",
       "\\nPakistan                    74.000000\n",
       "\\nPhilippines                100.500000\n",
       "\\nSingapore                   83.000000\n",
       "\\nSweden                     101.000000\n",
       "\\nTurkey                      80.000000\n",
       "\\nUAE                         65.000000\n",
       "\\nUnited Kingdom              29.000000\n",
       "\\nUnited States               72.493976\n",
       "\\nUnknown                     65.000000"
      ]
     },
     "execution_count": 18,
     "metadata": {},
     "output_type": "execute_result"
    }
   ],
   "source": [
    "df.groupby('nationality').mean()"
   ]
  },
  {
   "cell_type": "markdown",
   "metadata": {},
   "source": [
    "## Output for Javascript"
   ]
  },
  {
   "cell_type": "code",
   "execution_count": 21,
   "metadata": {
    "collapsed": true
   },
   "outputs": [],
   "source": [
    "## total_processing_days, application_type, service_center, premium\n",
    "\n",
    "df['premium'] = df['processed_note'].str.contains('premium')\n",
    "jsdata = df[['total_processing_days', 'premium', 'application_type', 'service_center']]\n",
    "jsdata.to_csv('data.csv', index=False)"
   ]
  }
 ],
 "metadata": {
  "kernelspec": {
   "display_name": "Python 2",
   "language": "python",
   "name": "python2"
  },
  "language_info": {
   "codemirror_mode": {
    "name": "ipython",
    "version": 2
   },
   "file_extension": ".py",
   "mimetype": "text/x-python",
   "name": "python",
   "nbconvert_exporter": "python",
   "pygments_lexer": "ipython2",
   "version": "2.7.11"
  }
 },
 "nbformat": 4,
 "nbformat_minor": 0
}
